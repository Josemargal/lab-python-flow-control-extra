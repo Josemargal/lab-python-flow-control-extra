{
 "cells": [
  {
   "cell_type": "markdown",
   "id": "d3bfc191-8885-42ee-b0a0-bbab867c6f9f",
   "metadata": {
    "tags": []
   },
   "source": [
    "# Lab | Flow Control"
   ]
  },
  {
   "cell_type": "markdown",
   "id": "303cceb0-f898-4c5f-99bd-c04e131e1ded",
   "metadata": {},
   "source": [
    "Objective: Practice how to use programming constructs like if/else statements and loops to control the flow of a program's execution."
   ]
  },
  {
   "cell_type": "markdown",
   "id": "42fd260a-9eb2-4c39-9989-f2c8c70552ec",
   "metadata": {},
   "source": [
    "## Challenge: The Haunted Mansion"
   ]
  },
  {
   "cell_type": "markdown",
   "id": "7086f8f7-ded2-48e5-b966-7ec44fb57ca5",
   "metadata": {},
   "source": [
    "You are a brave adventurer who has decided to explore the Haunted Mansion, a decrepit old building that is rumored to be haunted by ghosts and spirits. Your objective is to find the treasure that is hidden somewhere in the mansion.\n",
    "\n",
    "## Requirements\n",
    "\n",
    "- Your script should have at least two functions: \"run_mansion()\" and \"encounter_ghost()\".\n",
    "- Your script should use if-else statements, while loops, for loops, combined loops, or nested loops to control the flow of execution.\n",
    "- Your script should prompt the user for input to make decisions on which path to take or what actions to perform.\n",
    "- Your script should include random events and obstacles that can either help or hinder the adventurer in their quest.\n",
    "- Your script should have an objective of finding the treasure at the end of the mansion.\n",
    "\n",
    "## Instructions\n",
    "\n",
    "- Begin by creating a list of items that the adventurer can pick up along the way. These items will be used to help the adventurer overcome obstacles and defeat ghosts. Examples of items can be weapons, potions, keys, etc.\n",
    "\n",
    "- Complete the function called \"run_mansion()\" that serves as the main function for the game. Within \"run_mansion()\", prompt the user to choose a path to take at each intersection. Each path should have its unique challenges and obstacles that the adventurer must overcome.\n",
    "\n",
    "- Use loops to check if the adventurer has enough health points to continue the game. If their health points drop to zero, the game is over.\n",
    "\n",
    "- Complete the function called \"encounter_ghost()\" that will be used to handle ghost encounters. The function should use random events to determine the outcome of the encounter, and the adventurer should use their items to help them defeat the ghost.\n",
    "\n",
    "- Use loops to generate random events or items along the way. These events can either help or hinder the adventurer, and the outcome should be based on random chance.\n",
    "\n",
    "- At the end of the mansion, the adventurer will find the treasure, and the game will end.\n",
    "\n"
   ]
  },
  {
   "cell_type": "markdown",
   "id": "8846d61d-cf9d-4ad4-bbb8-1ecb3bb22005",
   "metadata": {},
   "source": [
    "*Introduction to Functions*:\n",
    "\n",
    "    Functions are blocks of code that perform a specific task. They are used to break up complex code into smaller, more manageable parts, which can make your code easier to read and understand. Functions can also be reused multiple times throughout your code, which can save you a lot of time and effort.\n",
    "\n",
    "    Functions are defined using the def keyword, followed by the name of the function and a set of parentheses. Inside the parentheses, you can list any arguments that the function needs in order to perform its task. These arguments are optional, but they can be useful if you need to pass data into the function from outside.\n",
    "\n",
    "    Once you have defined a function, you can call it from anywhere in your code using its name and passing any necessary arguments. When the function is called, the code inside it is executed, and any values that it returns are passed back to the calling code.\n",
    "\n",
    "    In this exercise, we have defined a function called encounter_ghost that simulates a battle between the adventurer and a ghost, and run_mansion. Your task is to complete these functions by using flow control statements such as if, else, while, for loops, and nested loops. Remember to pay attention to the instructions and comments provided in the function to help guide you. Once you have completed the function encounter_ghost, you can call it from the main code to simulate the battle and test your implementation.\n",
    "\n",
    "    Good luck!"
   ]
  },
  {
   "cell_type": "code",
   "execution_count": 1,
   "id": "499552c8-9e30-46e1-a706-4ac5dc64670e",
   "metadata": {},
   "outputs": [],
   "source": [
    "import random\n",
    "\n",
    "def encounter_ghost():\n",
    "    \"\"\"\n",
    "    Esta función maneja el encuentro con un fantasma. El resultado de la batalla se determina mediante un número aleatorio entre 1 y 10.\n",
    "    Si el número aleatorio es menor o igual a 5, el aventurero derrota al fantasma. En este caso, imprime el mensaje \"¡Has derrotado al fantasma!\"\n",
    "    y devuelve True, indicando que el aventurero ha ganado.\n",
    "    Si el número aleatorio es mayor a 5, el aventurero pierde la batalla. En este caso, imprime \"Has perdido la batalla...\" y devuelve False,\n",
    "    indicando que el fantasma ha ganado.\n",
    "    \"\"\"\n",
    "    print(\"¡Te encuentras con un fantasma!\")\n",
    "    result = random.randint(1, 10)\n",
    "    if result <= 5:\n",
    "        print(\"¡Has derrotado al fantasma!\")\n",
    "        return True\n",
    "    else:\n",
    "        print(\"Has perdido la batalla...\")\n",
    "        return False"
   ]
  },
  {
   "cell_type": "code",
   "execution_count": 2,
   "id": "d3e4076b-48cc-41ac-95ad-891743e775f5",
   "metadata": {},
   "outputs": [],
   "source": [
    "def run_mansion():\n",
    "    \"\"\"\n",
    "    Simula una aventura a través de una mansión embrujada. El aventurero comienza con 10 puntos de salud y sin artículos.\n",
    "    Se le pide al usuario que elija entre dos caminos: \"izquierda\" o \"derecha\".\n",
    "\n",
    "    Si elige \"izquierda\", ocurre un evento aleatorio. Hay un 50% de probabilidad de que el aventurero encuentre una poción y un 50% de probabilidad\n",
    "    de que caiga en una trampa y pierda 2 puntos de salud. Si encuentra la poción, se guarda en los artículos del aventurero.\n",
    "    Si cae en una trampa, se le restan 2 puntos de salud.\n",
    "\n",
    "    Si elige \"derecha\", se llama a la función \"encounter_ghost()\" para manejar la batalla entre el aventurero y el fantasma.\n",
    "    Si el aventurero gana, encuentra una llave que se guarda en los artículos del aventurero. Si pierde, pierde 2 puntos de salud.\n",
    "    Nota: recuerda verificar lo que devuelve encounter_ghost() para saber si ganó o perdió.\n",
    "\n",
    "    Si el aventurero elige algo que no sea \"izquierda\" o \"derecha\", se le pide que intente de nuevo.\n",
    "\n",
    "    Si los puntos de salud del aventurero llegan a 0 o menos, se imprime el mensaje \"Juego terminado, has perdido todos tus puntos de salud.\"\n",
    "\n",
    "    Si el aventurero tiene la llave, puede desbloquear la puerta y encontrar el Tesoro. Se imprime el mensaje \"¡Desbloqueaste la puerta y encontraste el Tesoro! ¡Felicidades!\".\n",
    "    Si no tiene la llave, se le pide que la encuentre desde el principio.\n",
    "    \"\"\"\n",
    "    health = 10\n",
    "    items = []  # Lista para almacenar los artículos encontrados\n",
    "    has_key = False\n",
    "\n",
    "    print(\"¡Bienvenido a la Mansión Embrujada!\")\n",
    "\n",
    "    while health > 0:\n",
    "        path = input(\"Elige un camino: izquierda o derecha: \").strip().lower()\n",
    "        \n",
    "        if path == \"izquierda\":\n",
    "            event = random.choice([\"potion\", \"trap\"])\n",
    "            if event == \"potion\":\n",
    "                items.append(\"potion\")\n",
    "                print(\"¡Has encontrado una poción!\")\n",
    "            elif event == \"trap\":\n",
    "                health -= 2\n",
    "                print(\"¡Has caído en una trampa y has perdido 2 puntos de salud!\")\n",
    "            print(f\"Salud restante: {health}\")\n",
    "        \n",
    "        elif path == \"derecha\":\n",
    "            if encounter_ghost():\n",
    "                items.append(\"key\")\n",
    "                has_key = True\n",
    "                print(\"¡Has encontrado una llave!\")\n",
    "            else:\n",
    "                health -= 2\n",
    "                print(\"¡Has perdido 2 puntos de salud!\")\n",
    "            print(f\"Salud restante: {health}\")\n",
    "        \n",
    "        else:\n",
    "            print(\"Opción no válida. Intenta de nuevo.\")\n",
    "\n",
    "        if health <= 0:\n",
    "            print(\"Juego terminado, has perdido todos tus puntos de salud.\")\n",
    "            return\n",
    "\n",
    "        if has_key:\n",
    "            print(\"¡Desbloqueaste la puerta y encontraste el Tesoro! ¡Felicidades!\")\n",
    "            return\n",
    "\n",
    "    # Si salimos del bucle y no se encontró el tesoro\n",
    "    print(\"No has encontrado el tesoro. ¡Intenta de nuevo!\")"
   ]
  },
  {
   "cell_type": "markdown",
   "id": "9e13a33c-38e5-44b3-bd1b-9a642c962c89",
   "metadata": {},
   "source": [
    "To run the game, simply call the run_mansion() function:"
   ]
  },
  {
   "cell_type": "code",
   "execution_count": 3,
   "id": "f238dc90-0be2-4d8c-93e9-30a1dc8a5b72",
   "metadata": {},
   "outputs": [
    {
     "name": "stdout",
     "output_type": "stream",
     "text": [
      "¡Bienvenido a la Mansión Embrujada!\n",
      "Opción no válida. Intenta de nuevo.\n",
      "¡Has caído en una trampa y has perdido 2 puntos de salud!\n",
      "Salud restante: 8\n",
      "¡Te encuentras con un fantasma!\n",
      "Has perdido la batalla...\n",
      "¡Has perdido 2 puntos de salud!\n",
      "Salud restante: 6\n",
      "¡Te encuentras con un fantasma!\n",
      "¡Has derrotado al fantasma!\n",
      "¡Has encontrado una llave!\n",
      "Salud restante: 6\n",
      "¡Desbloqueaste la puerta y encontraste el Tesoro! ¡Felicidades!\n"
     ]
    }
   ],
   "source": [
    "run_mansion()"
   ]
  },
  {
   "cell_type": "markdown",
   "id": "88212f63-3bdb-479f-bf6c-4ecd0685d39a",
   "metadata": {},
   "source": [
    "This should print the game's narrative and prompt the user to make choices and fight ghosts. The game ends when the adventurer finds the key or loses all their health points. "
   ]
  }
 ],
 "metadata": {
  "kernelspec": {
   "display_name": "Python 3 (ipykernel)",
   "language": "python",
   "name": "python3"
  },
  "language_info": {
   "codemirror_mode": {
    "name": "ipython",
    "version": 3
   },
   "file_extension": ".py",
   "mimetype": "text/x-python",
   "name": "python",
   "nbconvert_exporter": "python",
   "pygments_lexer": "ipython3",
   "version": "3.12.4"
  }
 },
 "nbformat": 4,
 "nbformat_minor": 5
}
